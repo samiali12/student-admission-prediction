{
 "cells": [
  {
   "cell_type": "code",
   "execution_count": 2,
   "metadata": {},
   "outputs": [],
   "source": [
    "# import all nesscary libraries\n",
    "import numpy as np\n",
    "import pandas as pd\n",
    "import matplotlib.pyplot as plt\n",
    "import scipy.optimize as opt"
   ]
  },
  {
   "cell_type": "code",
   "execution_count": 4,
   "metadata": {},
   "outputs": [
    {
     "data": {
      "text/html": [
       "<div>\n",
       "<style scoped>\n",
       "    .dataframe tbody tr th:only-of-type {\n",
       "        vertical-align: middle;\n",
       "    }\n",
       "\n",
       "    .dataframe tbody tr th {\n",
       "        vertical-align: top;\n",
       "    }\n",
       "\n",
       "    .dataframe thead th {\n",
       "        text-align: right;\n",
       "    }\n",
       "</style>\n",
       "<table border=\"1\" class=\"dataframe\">\n",
       "  <thead>\n",
       "    <tr style=\"text-align: right;\">\n",
       "      <th></th>\n",
       "      <th>Exam score 1</th>\n",
       "      <th>Exam score 2</th>\n",
       "      <th>Admission (1 or 0)</th>\n",
       "    </tr>\n",
       "  </thead>\n",
       "  <tbody>\n",
       "    <tr>\n",
       "      <th>0</th>\n",
       "      <td>34.623660</td>\n",
       "      <td>78.024693</td>\n",
       "      <td>0.0</td>\n",
       "    </tr>\n",
       "    <tr>\n",
       "      <th>1</th>\n",
       "      <td>30.286711</td>\n",
       "      <td>43.894998</td>\n",
       "      <td>0.0</td>\n",
       "    </tr>\n",
       "    <tr>\n",
       "      <th>2</th>\n",
       "      <td>35.847409</td>\n",
       "      <td>72.902198</td>\n",
       "      <td>0.0</td>\n",
       "    </tr>\n",
       "    <tr>\n",
       "      <th>3</th>\n",
       "      <td>60.182599</td>\n",
       "      <td>86.308552</td>\n",
       "      <td>1.0</td>\n",
       "    </tr>\n",
       "    <tr>\n",
       "      <th>4</th>\n",
       "      <td>79.032736</td>\n",
       "      <td>75.344376</td>\n",
       "      <td>1.0</td>\n",
       "    </tr>\n",
       "  </tbody>\n",
       "</table>\n",
       "</div>"
      ],
      "text/plain": [
       "   Exam score 1  Exam score 2  Admission (1 or 0)\n",
       "0     34.623660     78.024693                 0.0\n",
       "1     30.286711     43.894998                 0.0\n",
       "2     35.847409     72.902198                 0.0\n",
       "3     60.182599     86.308552                 1.0\n",
       "4     79.032736     75.344376                 1.0"
      ]
     },
     "execution_count": 4,
     "metadata": {},
     "output_type": "execute_result"
    }
   ],
   "source": [
    "# load datasets in jupyter enviroment\n",
    "data = np.loadtxt(\"student admission dataset.txt\", delimiter=\",\")\n",
    "\n",
    "#transform data into pandas dataframe\n",
    "df_data = pd.DataFrame(data = data,columns=[\"Exam score 1\",\"Exam score 2\",\"Admission (1 or 0)\"])\n",
    "df_data.head()"
   ]
  },
  {
   "cell_type": "code",
   "execution_count": 5,
   "metadata": {},
   "outputs": [],
   "source": [
    "# seperate features and labels from dataset\n",
    "X = data[:,[0,1]]\n",
    "Y = data[:,-1]"
   ]
  },
  {
   "cell_type": "code",
   "execution_count": 6,
   "metadata": {},
   "outputs": [
    {
     "data": {
      "image/png": "[encoded data removed]",
      "text/plain": [
       "<Figure size 432x288 with 1 Axes>"
      ]
     },
     "metadata": {
      "needs_background": "light"
     },
     "output_type": "display_data"
    }
   ],
   "source": [
    "# let's make sperate list of admitted and not admitted student  for ploting\n",
    "pos = []\n",
    "neg = []\n",
    "    \n",
    "for i,j in enumerate(Y):\n",
    "    if j == 1:\n",
    "        pos.append(i)\n",
    "    else:\n",
    "        neg.append(i)\n",
    "            \n",
    "fig = plt.subplot()\n",
    "\n",
    "# plot exam1 and exam2 score of admitted student \n",
    "plt.scatter(x = X[pos,0], y = X[pos,1], c=\"orange\", label=\"admitted\")\n",
    "# plot exam1 and exam2 score of not admitted student \n",
    "plt.scatter(x = X[neg,0], y = X[neg,1], c=\"blue\", label=\"not admitted\")\n",
    "\n",
    "# label x-axis and y-axis \n",
    "plt.xlabel(\"Exam score 1\")\n",
    "plt.ylabel(\"Exam score 2\")\n",
    "\n",
    "plt.legend()\n",
    "plt.show()"
   ]
  },
  {
   "cell_type": "code",
   "execution_count": 7,
   "metadata": {},
   "outputs": [],
   "source": [
    "# sigmoid function transform contineous value into probability of (1 or 0)\n",
    "def sigmoid(z):\n",
    "    \n",
    "    h_z = (1 / (1 + np.exp(-z)))\n",
    "\n",
    "    return h_z"
   ]
  },
  {
   "cell_type": "code",
   "execution_count": 8,
   "metadata": {},
   "outputs": [],
   "source": [
    "# calculating cost of overall traning\n",
    "def cost_function(theta_,X_,y):\n",
    "    \n",
    "    m = len(y) # m ----> scalar num representing length of labels\n",
    "    J = 0 # \n",
    "    \n",
    "    # calculating y_hat of all tranning example\n",
    "    h_z = X_ @ theta_\n",
    "    \n",
    "    h_z = sigmoid(h_z)\n",
    "\n",
    "    # we can also combine into single function\n",
    "    # J = (-1/m) * np.sum(np.multiple((y,np.log(h_Z))) + np.multiple((1-y,np.log(1-h_Z11))))\n",
    "    \n",
    "    # first part of cost function\n",
    "    y_0 = np.multiply(y,np.log(h_z))\n",
    "    # second part of cost function\n",
    "    y_1 = np.multiply((1-y),np.log(1-h_z))\n",
    "    \n",
    "    # sum of all and multiple by scalar (-1/m)\n",
    "    J = (-1/m) * np.sum(y_0 + y_1)\n",
    "    \n",
    "    return J # return cost "
   ]
  },
  {
   "cell_type": "code",
   "execution_count": 9,
   "metadata": {},
   "outputs": [],
   "source": [
    "def gradient(theta,X,y):\n",
    "    \n",
    "    m = len(y) # length of target value m x 1 scalar \n",
    "    \n",
    "    z = np.dot(X,theta)\n",
    "    h_z = sigmoid(z)\n",
    "    error = h_z - y\n",
    "    \n",
    "    theta = (1/m) * (X.T @ error)\n",
    "\n",
    "    return theta"
   ]
  },
  {
   "cell_type": "code",
   "execution_count": 10,
   "metadata": {},
   "outputs": [],
   "source": [
    "m,n = X.shape # m --> rows and n --> columns\n",
    "\n",
    "# add one more column into matrix denoting (b0 or or intercept)  \n",
    "X = np.hstack((np.ones((m,1)),X))\n",
    "\n",
    "# initialization of  theta (n+1,1)\n",
    "theta = np.zeros((n+1,1))"
   ]
  },
  {
   "cell_type": "code",
   "execution_count": 13,
   "metadata": {},
   "outputs": [
    {
     "name": "stdout",
     "output_type": "stream",
     "text": [
      "cost at initialize theta :  69.31471805599453\n"
     ]
    }
   ],
   "source": [
    "J = cost_function(theta,X,Y)\n",
    "print(\"cost at initialize theta : \",J)"
   ]
  },
  {
   "cell_type": "code",
   "execution_count": 15,
   "metadata": {},
   "outputs": [],
   "source": [
    "# optimization of theta using fmin_tnc \n",
    "theta = opt.fmin_tnc(func=cost_function, x0=theta.flatten(), fprime=gradient, args=(X, Y.flatten()))\n",
    "theta = theta[0]"
   ]
  },
  {
   "cell_type": "code",
   "execution_count": 17,
   "metadata": {},
   "outputs": [],
   "source": [
    "# calculating values of decision boundary\n",
    "plot_x = np.array([min(X[:,1]),max(X[:,2])])\n",
    "plot_y = (-1/theta[2]) * (theta[1] * plot_x + theta[0])"
   ]
  },
  {
   "cell_type": "code",
   "execution_count": 18,
   "metadata": {},
   "outputs": [
    {
     "data": {
      "image/png": "[encoded data removed]",
      "text/plain": [
       "<Figure size 432x288 with 1 Axes>"
      ]
     },
     "metadata": {
      "needs_background": "light"
     },
     "output_type": "display_data"
    }
   ],
   "source": [
    "# plot decision bounary\n",
    "x1 = data[:,[0,1]]\n",
    "x2 = data[:,-1]\n",
    "\n",
    "plt.scatter(x = x1[pos,0], y = x1[pos,1], c=\"orange\", label=\"admitted\")\n",
    "plt.scatter(x = x1[neg,0], y = x1[neg,1], c=\"blue\", label=\"not admitted\")\n",
    "\n",
    "# plot decision boundary line \n",
    "plt.plot(plot_x,plot_y)\n",
    "\n",
    "plt.xlabel(\"Exam score 1\")\n",
    "plt.ylabel(\"Exam score 2\")\n",
    "\n",
    "plt.legend()\n",
    "plt.show()"
   ]
  },
  {
   "cell_type": "code",
   "execution_count": null,
   "metadata": {},
   "outputs": [],
   "source": []
  }
 ],
 "metadata": {
  "kernelspec": {
   "display_name": "Python 3",
   "language": "python",
   "name": "python3"
  },
  "language_info": {
   "codemirror_mode": {
    "name": "ipython",
    "version": 3
   },
   "file_extension": ".py",
   "mimetype": "text/x-python",
   "name": "python",
   "nbconvert_exporter": "python",
   "pygments_lexer": "ipython3",
   "version": "3.8.5"
  }
 },
 "nbformat": 4,
 "nbformat_minor": 4
}
